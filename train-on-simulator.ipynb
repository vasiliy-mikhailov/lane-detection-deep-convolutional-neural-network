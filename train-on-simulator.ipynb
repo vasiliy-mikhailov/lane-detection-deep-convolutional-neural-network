{
 "cells": [
  {
   "cell_type": "markdown",
   "metadata": {
    "id": "-NPx203uWAWm"
   },
   "source": [
    "# Lane detection using deep convolutional neural network autoencoder"
   ]
  },
  {
   "cell_type": "markdown",
   "metadata": {
    "id": "F7ggLD8WWAWo"
   },
   "source": [
    "Starting this project, I have a hypothesis that deep convolutional neural network will be able to find road structure.\n",
    "\n",
    "Then I will label real road videos and will test it on video from Udacity. I expect to find train videos on youtube and I expect that 1 000 labeled images will be enough for success. I estimate labeling effort as highest effort in whole project - I expect to spend ~11 hours on this, labeling 90 images per hour (2 images per minute for 45 minutes and 15 minutes rest).\n",
    "\n",
    "To find out how good model is and how many actual images I need, I will solve simplier task first: I will first prove simplier hypothesis: sumulate a bunch of road images and will train dCNN autoencoder to recognize it from image back to model.\n",
    "\n",
    "I will simulate only one lane (in which car is currently moving) for purpose of simplicity.\n",
    "\n",
    "Udacity challenge has three videos:\n",
    "1. \"project_video.mp4\" has solid yellow left line and dash-dot white right line. Lines are curved with one curve direction or straight \n",
    "2. \"challenge_video.mp4\" same as previous but with changing lightning conditions\n",
    "3. \"harder_challenge_video.mp4\" has double solid yellow left line and solid right line, lighning conditions are changing very fast. Lines are curved with two extremums (which means it cannot be described with parabola, but with cubic polynomial)."
   ]
  },
  {
   "cell_type": "code",
   "execution_count": 1,
   "metadata": {
    "colab": {
     "base_uri": "https://localhost:8080/"
    },
    "id": "00w_H2JBfBUI",
    "outputId": "7766fee5-b905-4e0b-ca13-926bda600bae"
   },
   "outputs": [
    {
     "name": "stdout",
     "output_type": "stream",
     "text": [
      "Found GPU at: /device:GPU:0\n"
     ]
    }
   ],
   "source": [
    "import tensorflow as tf\n",
    "device_name = tf.test.gpu_device_name()\n",
    "if device_name != '/device:GPU:0':\n",
    "  raise SystemError('GPU device not found')\n",
    "print('Found GPU at: {}'.format(device_name))"
   ]
  },
  {
   "cell_type": "code",
   "execution_count": 2,
   "metadata": {
    "id": "2lvPBLrv57k5"
   },
   "outputs": [],
   "source": [
    "image_width = 224\n",
    "image_height = 224"
   ]
  },
  {
   "cell_type": "code",
   "execution_count": 3,
   "metadata": {
    "colab": {
     "base_uri": "https://localhost:8080/",
     "height": 286
    },
    "id": "Z5QtrTCR2g3X",
    "outputId": "88ed7060-5dce-46c6-9037-3491c8cd36bc"
   },
   "outputs": [
    {
     "data": {
      "text/plain": [
       "<matplotlib.image.AxesImage at 0x7fe0b8d26a60>"
      ]
     },
     "execution_count": 3,
     "metadata": {},
     "output_type": "execute_result"
    },
    {
     "data": {
      "image/png": "[encoded data removed]",
      "text/plain": [
       "<Figure size 432x288 with 1 Axes>"
      ]
     },
     "metadata": {
      "needs_background": "light"
     },
     "output_type": "display_data"
    }
   ],
   "source": [
    "import numpy as np\n",
    "import matplotlib.pyplot as plt\n",
    "%matplotlib inline\n",
    "\n",
    "def make_blank_image(width: int, height: int):\n",
    "    return np.zeros((height, width, 3), dtype=np.uint8)\n",
    "\n",
    "\n",
    "image = make_blank_image(width=image_width, height=image_height)\n",
    "\n",
    "plt.imshow(image)"
   ]
  },
  {
   "cell_type": "code",
   "execution_count": 4,
   "metadata": {
    "id": "fy52erIWWAWo"
   },
   "outputs": [],
   "source": [
    "import math\n",
    "import cv2\n",
    "\n",
    "class Point:\n",
    "    def __init__(self, x: float, y: float):\n",
    "        self.x: float = x\n",
    "        self.y: float = y\n",
    "\n",
    "    def distance_to(self, point) -> float:\n",
    "      return math.sqrt((self.x - point.x)**2 + (self.y - point.y)**2)\n",
    "            \n",
    "    def __str__(self):\n",
    "        return \"({}, {})\".format(self.x, self.y)\n",
    "\n",
    "\n",
    "    def present(self, image):\n",
    "      image_height = image.shape[0]\n",
    "      image_width = image.shape[1]\n",
    "\n",
    "      cv2.circle(image, center=(int(self.x * image_width), int(self.y * image_height)), radius=2, color=[255, 0, 0], thickness=2)"
   ]
  },
  {
   "cell_type": "code",
   "execution_count": 5,
   "metadata": {
    "colab": {
     "base_uri": "https://localhost:8080/",
     "height": 320
    },
    "id": "5xL6LjiYWAWp",
    "outputId": "8e64e89a-0736-4a81-cb8c-a283ec213d96"
   },
   "outputs": [
    {
     "name": "stdout",
     "output_type": "stream",
     "text": [
      "(0.3, 0.4)\n",
      "0.5\n"
     ]
    },
    {
     "data": {
      "text/plain": [
       "<matplotlib.image.AxesImage at 0x7fdfe4ecd160>"
      ]
     },
     "execution_count": 5,
     "metadata": {},
     "output_type": "execute_result"
    },
    {
     "data": {
      "image/png": "[encoded data removed]",
      "text/plain": [
       "<Figure size 432x288 with 1 Axes>"
      ]
     },
     "metadata": {
      "needs_background": "light"
     },
     "output_type": "display_data"
    }
   ],
   "source": [
    "point = Point(x=0.3, y=0.4)\n",
    "print(point)\n",
    "\n",
    "another_point = Point(x=0, y=0)\n",
    "print(point.distance_to(point=another_point))\n",
    "\n",
    "image = make_blank_image(width=image_width, height=image_height)\n",
    "\n",
    "point.present(image)\n",
    "\n",
    "plt.imshow(image)"
   ]
  },
  {
   "cell_type": "code",
   "execution_count": 6,
   "metadata": {
    "id": "zxRZHLwob6UT"
   },
   "outputs": [],
   "source": [
    "from enum import Enum\n",
    "\n",
    "class SimulatedLineColor(Enum):\n",
    "  YELLOW = 1\n",
    "  WHITE = 2\n",
    "\n",
    "class SimulatedLineStroke(Enum):\n",
    "  SOLID = 1\n",
    "  DASHED = 2\n",
    "\n",
    "class SimulatedLineQuantity(Enum):\n",
    "  SINGLE = 1\n",
    "  DOUBLE = 2"
   ]
  },
  {
   "cell_type": "code",
   "execution_count": 7,
   "metadata": {
    "id": "51AnVKmNhH8B"
   },
   "outputs": [],
   "source": [
    "import cv2\n",
    "\n",
    "class SimulatedLineSegment:\n",
    "  def __init__(\n",
    "      self,\n",
    "      start_point: Point,\n",
    "      end_point: Point,\n",
    "      color: SimulatedLineColor,\n",
    "      width: float\n",
    "  ):\n",
    "    self.start_point: Point = start_point\n",
    "    self.end_point: Point = end_point\n",
    "    self.color: SimulatedLineColor = color\n",
    "    self.width: float = width\n",
    "\n",
    "  def __str__(self):\n",
    "    return \"{} - {} {} width={}\".format(self.start_point, self.end_point, self.color, self.width)\n",
    "\n",
    "  def convert_point_to_cv2_point(self, point: Point, image_width: int, image_height: int) -> []:\n",
    "    return (\n",
    "      int(point.x * image_width),\n",
    "      int(point.y * image_height)\n",
    "    )\n",
    "\n",
    "  def get_rgb_color(self, color: SimulatedLineColor):\n",
    "    if color == SimulatedLineColor.WHITE:\n",
    "      return [255, 255, 255]\n",
    "    elif color == SimulatedLineColor.YELLOW:\n",
    "      return [255, 255, 0]\n",
    "    else:\n",
    "      raise ValueError('SimulatedLineSegment get_rgb_color unknown color {}'.format(color))\n",
    "\n",
    "  def present(self, image):\n",
    "      image_height = image.shape[0]\n",
    "      image_width = image.shape[1]\n",
    "\n",
    "      line_thickness = max(image_height, image_width) * self.width\n",
    "\n",
    "      start_point_cv2 = self.convert_point_to_cv2_point(point=self.start_point, image_width=image_width, image_height=image_height)\n",
    "      \n",
    "      end_point_cv2 = self.convert_point_to_cv2_point(point=self.end_point, image_width=image_width, image_height=image_height)\n",
    "\n",
    "      color = self.get_rgb_color(color=self.color) \n",
    "\n",
    "      cv2.line(image, pt1=start_point_cv2, pt2=end_point_cv2, color=color, thickness=int(line_thickness))"
   ]
  },
  {
   "cell_type": "code",
   "execution_count": 8,
   "metadata": {
    "colab": {
     "base_uri": "https://localhost:8080/",
     "height": 303
    },
    "id": "1yeWsudfiEwM",
    "outputId": "6832cf37-501c-418a-fca0-0be1c32d976f"
   },
   "outputs": [
    {
     "name": "stdout",
     "output_type": "stream",
     "text": [
      "(0, 0) - (1, 1) SimulatedLineColor.YELLOW width=0.01\n"
     ]
    },
    {
     "data": {
      "text/plain": [
       "<matplotlib.image.AxesImage at 0x7fdfe4ec20a0>"
      ]
     },
     "execution_count": 8,
     "metadata": {},
     "output_type": "execute_result"
    },
    {
     "data": {
      "image/png": "[encoded data removed]",
      "text/plain": [
       "<Figure size 432x288 with 1 Axes>"
      ]
     },
     "metadata": {
      "needs_background": "light"
     },
     "output_type": "display_data"
    }
   ],
   "source": [
    "simulated_line_segment = SimulatedLineSegment(\n",
    "    start_point=Point(x=0, y=0),\n",
    "    end_point=Point(x=1, y=1),\n",
    "    color=SimulatedLineColor.YELLOW,\n",
    "    width=0.01\n",
    ")\n",
    "\n",
    "print(simulated_line_segment)\n",
    "\n",
    "simulated_line_segment.present(image=image)\n",
    "\n",
    "plt.imshow(image)"
   ]
  },
  {
   "cell_type": "code",
   "execution_count": 9,
   "metadata": {
    "id": "h6XZC0QsWAWp"
   },
   "outputs": [],
   "source": [
    "import numpy as np\n",
    "\n",
    "class SimulatedLine:\n",
    "    def __init__(\n",
    "        self,\n",
    "        points: [Point],\n",
    "        color: SimulatedLineColor,\n",
    "        stroke: SimulatedLineStroke,\n",
    "        quantity: SimulatedLineQuantity,\n",
    "        width: int\n",
    "      ):\n",
    "        self.points: [Point] = points\n",
    "        self.polynomial_coefficients: [float] = self.calculate_polynomial_coefficients_by_points(\n",
    "            points=points\n",
    "        )\n",
    "        self.color: SimulatedLineColor = color\n",
    "        self.stroke: SimulatedLineStroke = stroke\n",
    "        self.quantity: SimulatedLineQuantity = quantity\n",
    "        self.width: float = width\n",
    "\n",
    "        self.segments = self.make_segments()\n",
    "\n",
    "    def make_polynomial_equation_for_point(self, point: Point, number_of_points: int) -> []:\n",
    "      result_A = []\n",
    "\n",
    "      highest_degree = number_of_points - 1\n",
    "\n",
    "      for i in range(0, highest_degree):\n",
    "        term_power = highest_degree - i\n",
    "        coefficient = point.x ** term_power\n",
    "        result_A.append(coefficient)\n",
    "\n",
    "      result_A.append(1)\n",
    "\n",
    "      result_b = point.y\n",
    "\n",
    "      return result_A, result_b\n",
    "\n",
    "    def make_linear_equation_by_points(self, points: [Point]) -> ([[]], []):\n",
    "      result_A = []\n",
    "      result_b = []\n",
    "\n",
    "      number_of_points = len(points)\n",
    "\n",
    "      for point in points:\n",
    "        polynomial_A, polynomial_b = self.make_polynomial_equation_for_point(point=point, number_of_points=number_of_points)\n",
    "        result_A.append(polynomial_A)\n",
    "        result_b.append(polynomial_b)\n",
    "\n",
    "      return result_A, result_b\n",
    "\n",
    "    def solve_linear_equation(self, A: [[]], b: []) -> []:\n",
    "      invA = np.linalg.inv(A)\n",
    "\n",
    "      result = np.dot(invA, b)\n",
    "\n",
    "      return result\n",
    "\n",
    "    def calculate_polynomial_coefficients_by_points(self, points: [Point]) -> []:\n",
    "      A, b = self.make_linear_equation_by_points(points=points)\n",
    "      solution = self.solve_linear_equation(A=A, b=b)\n",
    "      result = solution.tolist()\n",
    "\n",
    "      return result\n",
    "\n",
    "\n",
    "    def get_point_at_x(self, x: float) -> Point:\n",
    "      polynomial_coefficients = self.polynomial_coefficients\n",
    "\n",
    "      equation_terms = []\n",
    "      for index, polynomial_coefficient in enumerate(polynomial_coefficients):\n",
    "          degree = len(polynomial_coefficients) - index - 1\n",
    "      \n",
    "          equation_term = polynomial_coefficient * (x ** degree)\n",
    "              \n",
    "          equation_terms.append(equation_term)\n",
    "\n",
    "      y = sum(equation_terms)\n",
    "\n",
    "      return Point(x=x, y=y)\n",
    "\n",
    "    def make_segments(self):\n",
    "      result = []\n",
    "\n",
    "      step = 0.001\n",
    "      min_distance = 0.10\n",
    "\n",
    "      min_x = min([point.x for point in self.points])\n",
    "      max_x = max([point.x for point in self.points])\n",
    "\n",
    "      previous_x = min_x\n",
    "      previous_point = self.get_point_at_x(x=previous_x)\n",
    "\n",
    "      current_x = min_x + step\n",
    "\n",
    "      while (current_x <= max_x):\n",
    "        current_point = self.get_point_at_x(x=current_x)\n",
    "\n",
    "        distance = previous_point.distance_to(point=current_point)\n",
    "\n",
    "        if distance >= min_distance:\n",
    "          segment = SimulatedLineSegment(\n",
    "              start_point=previous_point,\n",
    "              end_point=current_point,\n",
    "              color=self.color,\n",
    "              width=self.width\n",
    "          )\n",
    "\n",
    "          result.append(segment)\n",
    "\n",
    "          previous_x = current_x\n",
    "          previous_point = self.get_point_at_x(x=previous_x)\n",
    "\n",
    "        current_x = current_x + step\n",
    "\n",
    "      segment = SimulatedLineSegment(\n",
    "          start_point=previous_point,\n",
    "          end_point=current_point,\n",
    "          color=self.color,\n",
    "          width=self.width\n",
    "      )\n",
    "      result.append(segment)\n",
    "\n",
    "      return result\n",
    "    \n",
    "    def __str__(self):\n",
    "        polynomial_coefficients = self.polynomial_coefficients\n",
    "        polynomial_equation_parts = []\n",
    "        for index, polynomial_coefficient in enumerate(polynomial_coefficients):\n",
    "            degree = len(polynomial_coefficients) - index - 1\n",
    "            \n",
    "            if degree > 1:\n",
    "                polynomial_equation_part = \"{}*x^{}\".format(polynomial_coefficient, degree)\n",
    "            if degree == 1:\n",
    "                polynomial_equation_part = \"{}*x\".format(polynomial_coefficient)\n",
    "            elif degree == 0:\n",
    "                polynomial_equation_part = \"{}\".format(polynomial_coefficient)\n",
    "                \n",
    "            polynomial_equation_parts.append(polynomial_equation_part)\n",
    "        \n",
    "        return \"+\".join(polynomial_equation_parts)\n",
    "\n",
    "    def present_solid_line(self, image):\n",
    "      for segment in self.segments:\n",
    "        segment.present(image=image)\n",
    "\n",
    "    def present_dashed_line(self, image):\n",
    "      for i, segment in enumerate(self.segments):\n",
    "        if i % 2 == 0:\n",
    "          segment.present(image=image)\n",
    "\n",
    "    def present(self, image):\n",
    "      stroke = self.stroke\n",
    "\n",
    "      # for point in self.points:\n",
    "      #   point.present(image)\n",
    "\n",
    "      if stroke == SimulatedLineStroke.SOLID:\n",
    "        self.present_solid_line(image=image)\n",
    "      elif stroke == SimulatedLineStroke.DASHED:\n",
    "        self.present_dashed_line(image=image)\n",
    "      else:\n",
    "        raise ValueError('SimulatedLine present unknown stroke {}'.format(stroke))\n",
    "\n",
    "    def convert_points_to_points_array(self):\n",
    "      result = []\n",
    "      for point in self.points:\n",
    "        result.append(point.x)\n",
    "        result.append(point.y)\n",
    "\n",
    "      return result\n",
    "\n",
    "    def y(self):\n",
    "      points_array = self.convert_points_to_points_array()\n",
    "\n",
    "      max_color = max([color.value for color in SimulatedLineStroke])\n",
    "      color = self.color.value\n",
    "      normalized_color = color / max_color\n",
    "\n",
    "      max_stroke = max([stroke.value for stroke in SimulatedLineStroke])\n",
    "      stroke = self.stroke.value\n",
    "      normalized_stroke = stroke / max_stroke\n",
    "\n",
    "      width = self.width\n",
    "\n",
    "      return points_array + [normalized_color, stroke, width]\n"
   ]
  },
  {
   "cell_type": "code",
   "execution_count": 10,
   "metadata": {
    "colab": {
     "base_uri": "https://localhost:8080/",
     "height": 303
    },
    "id": "RU6-ZyTeWAWp",
    "outputId": "feda2982-a86a-48fc-b49c-9e637042cf09"
   },
   "outputs": [
    {
     "name": "stdout",
     "output_type": "stream",
     "text": [
      "2.083333333333332*x^3+-3.7499999999999964*x^2+2.666666666666666*x+0.0\n"
     ]
    },
    {
     "data": {
      "text/plain": [
       "<matplotlib.image.AxesImage at 0x7fdfe4e48820>"
      ]
     },
     "execution_count": 10,
     "metadata": {},
     "output_type": "execute_result"
    },
    {
     "data": {
      "image/png": "[encoded data removed]",
      "text/plain": [
       "<Figure size 432x288 with 1 Axes>"
      ]
     },
     "metadata": {
      "needs_background": "light"
     },
     "output_type": "display_data"
    }
   ],
   "source": [
    "simulated_line = SimulatedLine(\n",
    "    points=[\n",
    "      Point(x=0.0, y=0.0),\n",
    "      Point(x=0.2, y=0.4),\n",
    "      Point(x=0.8, y=0.8),\n",
    "      Point(x=1.0, y=1.0)\n",
    "    ],\n",
    "    color=SimulatedLineColor.YELLOW,\n",
    "    stroke=SimulatedLineStroke.DASHED,\n",
    "    quantity=SimulatedLineQuantity.SINGLE,\n",
    "    width=0.01\n",
    ")\n",
    "\n",
    "print(simulated_line)\n",
    "\n",
    "image = make_blank_image(width=image_width, height=image_height)\n",
    "\n",
    "simulated_line.present(image=image)\n",
    "\n",
    "plt.imshow(image)"
   ]
  },
  {
   "cell_type": "code",
   "execution_count": 11,
   "metadata": {
    "id": "WE74FikCT8VD"
   },
   "outputs": [],
   "source": [
    "class SimulatedLane:\n",
    "  def __init__(self, left_line: SimulatedLine, right_line: SimulatedLine):\n",
    "    self.left_line: SimulatedLine = left_line\n",
    "    self.right_line: SimulatedLine = right_line\n",
    "\n",
    "  def __str__(self):\n",
    "    return \"left line: {}\\nright line: {}\".format(self.left_line, self.right_line)\n",
    "\n",
    "  def present(self, image):\n",
    "    self.left_line.present(image)\n",
    "    self.right_line.present(image)\n",
    "\n",
    "  def segments_to_points(self, segments: [SimulatedLineSegment]):\n",
    "    result = [segment.start_point for segment in segments]\n",
    "    last_segment = segments[-1]\n",
    "    result.append(last_segment.end_point)\n",
    "    return result\n",
    "\n",
    "  def get_points(self):\n",
    "    left_line_segments = self.left_line.segments\n",
    "    right_line_segments = self.right_line.segments\n",
    "    left_line_points = self.segments_to_points(segments=left_line_segments)\n",
    "    right_line_points_reversed = self.segments_to_points(segments=right_line_segments)[::-1]\n",
    "    return left_line_points + right_line_points_reversed\n",
    "\n",
    "  def present_filled(self, image):\n",
    "    points = self.get_points()\n",
    "\n",
    "    image_height = image.shape[0]\n",
    "    image_width = image.shape[1]\n",
    "\n",
    "    cv2_points = np.array([[int(point.x * image_width), int(point.y * image_height)] for point in points])\n",
    "    \n",
    "    cv2.fillPoly(image, [cv2_points], color=[0, 255, 0])\n",
    "\n",
    "  def y(self):\n",
    "    return self.left_line.y() + self.right_line.y()"
   ]
  },
  {
   "cell_type": "code",
   "execution_count": 12,
   "metadata": {
    "colab": {
     "base_uri": "https://localhost:8080/",
     "height": 558
    },
    "id": "Er5BTwsmWAWs",
    "outputId": "a3ae8cd9-7a59-41a4-815c-de758e8bae81",
    "scrolled": true
   },
   "outputs": [
    {
     "data": {
      "image/png": "[encoded data removed]",
      "text/plain": [
       "<Figure size 432x288 with 1 Axes>"
      ]
     },
     "metadata": {
      "needs_background": "light"
     },
     "output_type": "display_data"
    },
    {
     "data": {
      "image/png": "[encoded data removed]",
      "text/plain": [
       "<Figure size 432x288 with 1 Axes>"
      ]
     },
     "metadata": {
      "needs_background": "light"
     },
     "output_type": "display_data"
    },
    {
     "name": "stdout",
     "output_type": "stream",
     "text": [
      "[0.04257100170168043, 0, 0.12521951893989594, 0.2378571226144393, 0.303816149844573, 0.8351127043129588, 0.3355858635972651, 1, 1.0, 1, 0.01563706078380016, 0.5425710017016805, 0, 0.6252195189398959, 0.2378571226144393, 0.8038161498445731, 0.8351127043129588, 0.835585863597265, 1, 1.0, 1, 0.016025285656086102]\n"
     ]
    }
   ],
   "source": [
    "import matplotlib.pyplot as plt\n",
    "%matplotlib inline\n",
    "import cv2\n",
    "import numpy as np\n",
    "import random\n",
    "\n",
    "class SimulatedLaneImageGenerator:\n",
    "  def __init__(self, image_width: int, image_height: int):\n",
    "    self.image_width: int = image_width\n",
    "    self.image_height: int = image_height\n",
    "\n",
    "  def get_random_middle_point(self, start_point: Point, end_point: Point, range_x_min: float, range_x_max: float):\n",
    "    m = (start_point.y - end_point.y) / (start_point.x - end_point.x)\n",
    "    b = start_point.y - m * start_point.x\n",
    "\n",
    "    x = random.uniform(a=range_x_min, b=range_x_max)\n",
    "    y = m * x + b\n",
    "\n",
    "    return Point(x=x, y=y)\n",
    "\n",
    "  def random_shift_y(self, point: Point, percent_range: float, start_point: Point, end_point: Point):\n",
    "    shift_value = random.uniform(a=-percent_range, b=percent_range)\n",
    "    shifted_y = point.y + shift_value\n",
    "\n",
    "    return Point(x=point.x, y=shifted_y)\n",
    "\n",
    "  def exchange(self, a, b) -> ():\n",
    "    return (b, a)\n",
    "\n",
    "  def make_left_points_for_curly_line(self, start_x: float, end_x: float) -> [Point]:\n",
    "    start_point = Point(x=start_x, y=0)\n",
    "    end_point = Point(x=end_x, y=1)\n",
    "\n",
    "    percent_range=0.2\n",
    "\n",
    "    middle_point_1_range_x_min = start_point.x + (end_point.x - start_point.x) * 0.1\n",
    "    middle_point_1_range_x_max = start_point.x + (end_point.x - start_point.x) * 0.3\n",
    "    middle_point_1 = self.get_random_middle_point(\n",
    "      start_point=start_point, \n",
    "      end_point=end_point, \n",
    "      range_x_min=middle_point_1_range_x_min,\n",
    "      range_x_max=middle_point_1_range_x_max\n",
    "    )\n",
    "    middle_point_1 = self.random_shift_y(\n",
    "      point=middle_point_1,\n",
    "      percent_range=percent_range,\n",
    "      start_point=start_point,\n",
    "      end_point=end_point\n",
    "    )\n",
    "\n",
    "    middle_point_2_range_x_min = end_point.x - (end_point.x - start_point.x) * 0.3\n",
    "    middle_point_2_range_x_max = end_point.x - (end_point.x - start_point.x) * 0.1\n",
    "    middle_point_2 = self.get_random_middle_point(\n",
    "      start_point=start_point,\n",
    "      end_point=end_point,\n",
    "      range_x_min=middle_point_2_range_x_min,\n",
    "      range_x_max=middle_point_2_range_x_max\n",
    "    )\n",
    "    middle_point_2 = self.random_shift_y(\n",
    "      point=middle_point_2,\n",
    "      percent_range=percent_range,\n",
    "      start_point=start_point,\n",
    "      end_point=end_point\n",
    "    )\n",
    "\n",
    "    return [start_point, middle_point_1, middle_point_2, end_point]\n",
    "\n",
    "  def generate_random_points_for_left_curly_line(self):\n",
    "    start_x = random.uniform(a=0, b=0.5)\n",
    "    end_x = random.uniform(a=0, b=0.5)\n",
    "\n",
    "    start_x_less_than_end_x = start_x < end_x\n",
    "    if not start_x_less_than_end_x:\n",
    "      start_x, end_x = self.exchange(start_x, end_x)\n",
    "\n",
    "    if abs(end_x - start_x) < 0.1:\n",
    "      end_x = min(end_x + 0.1, 1.0)\n",
    "      start_x = max(start_x - 0.1, 0.0)\n",
    "\n",
    "    return self.make_left_points_for_curly_line(start_x=start_x, end_x=end_x)\n",
    "\n",
    "  def make_right_lane_points_from_left_line_points(self, left_line_points: [Point]) -> [Point]:\n",
    "    return [Point(x=point.x + 0.5,y=point.y) for point in left_line_points]\n",
    "\n",
    "  def generate_random_simulated_line_from_points(self, points: [Point]) -> SimulatedLine:\n",
    "    color = random.choice(list(SimulatedLineColor))\n",
    "    stroke = random.choice(list(SimulatedLineStroke))\n",
    "    quantity = random.choice(list(SimulatedLineQuantity))\n",
    "    width = random.uniform(0.005, 0.02)\n",
    "\n",
    "    return SimulatedLine(points=points, color=color, stroke=stroke, quantity=quantity, width=width) \n",
    "\n",
    "  def generate_random_simulated_lane(self):\n",
    "    left_line_points = self.generate_random_points_for_left_curly_line()\n",
    "    left_line = self.generate_random_simulated_line_from_points(points=left_line_points)\n",
    "\n",
    "    right_line_points = self.make_right_lane_points_from_left_line_points(left_line_points=left_line_points)\n",
    "\n",
    "    right_line = self.generate_random_simulated_line_from_points(points=right_line_points)\n",
    "\n",
    "    return SimulatedLane(left_line=left_line, right_line=right_line)\n",
    "\n",
    "  def generate(self):\n",
    "    image_width = self.image_width\n",
    "    image_height = self.image_height\n",
    "            \n",
    "    simulated_lane = self.generate_random_simulated_lane()\n",
    "\n",
    "    X_image = make_blank_image(width=image_width, height=image_height)\n",
    "    simulated_lane.present(image=X_image)\n",
    "\n",
    "    y_image = make_blank_image(width=image_width, height=image_height)\n",
    "    simulated_lane.present_filled(image=y_image)\n",
    "\n",
    "    y_lane = simulated_lane.y()\n",
    "\n",
    "    return X_image, y_image, y_lane\n",
    "\n",
    "simulated_line_image_generator = SimulatedLaneImageGenerator(image_width=image_width, image_height=image_height)\n",
    "X_image, y_image, y_lane = simulated_line_image_generator.generate()\n",
    "\n",
    "plt.imshow(X_image)\n",
    "plt.show()\n",
    "plt.imshow(y_image)\n",
    "plt.show()\n",
    "print(y_lane)"
   ]
  },
  {
   "cell_type": "code",
   "execution_count": 13,
   "metadata": {
    "id": "1xl9bHlOWAWs"
   },
   "outputs": [],
   "source": [
    "from PIL import Image\n",
    "\n",
    "def save_image(image, file_name: str):\n",
    "    pil_image = Image.fromarray(image)\n",
    "    pil_image.save(file_name)\n",
    "    \n",
    "save_image(image=X_image, file_name='X.png')\n",
    "save_image(image=y_image, file_name='y.png')"
   ]
  },
  {
   "cell_type": "code",
   "execution_count": 14,
   "metadata": {
    "id": "jXoNpizqWAWt"
   },
   "outputs": [],
   "source": [
    "!rm -rf ./data"
   ]
  },
  {
   "cell_type": "code",
   "execution_count": 15,
   "metadata": {
    "id": "VtMFwhZ4WAWt"
   },
   "outputs": [],
   "source": [
    "import os\n",
    "import csv\n",
    "\n",
    "\n",
    "def save_y_lane(y_lane, file_name: str):\n",
    "  with open(file_name, 'w') as csv_file:\n",
    "      csv_writer = csv.writer(csv_file)\n",
    "      csv_writer.writerow(y_lane)\n",
    "\n",
    "def generate_data(image_width: int, image_height: int, image_quantity: int, folder: str):\n",
    "    os.makedirs('./data', exist_ok=True)\n",
    "    os.makedirs('./data/{}'.format(folder), exist_ok=True)\n",
    "    os.makedirs('./data/{}/X'.format(folder), exist_ok=True)\n",
    "    os.makedirs('./data/{}/y'.format(folder), exist_ok=True)\n",
    "    \n",
    "    simulated_line_image_generator = SimulatedLaneImageGenerator(image_width=image_width, image_height=image_height)\n",
    "    for i in range(image_quantity):\n",
    "        X_image, y_image, y_lane = simulated_line_image_generator.generate()\n",
    "        save_image(image=X_image, file_name='./data/{}/X/{:05}.png'.format(folder, i))\n",
    "        save_image(image=y_image, file_name='./data/{}/y/{:05}.png'.format(folder, i))\n",
    "        save_y_lane(y_lane=y_lane, file_name='./data/{}/y/{:05}.csv'.format(folder, i))\n",
    "        \n",
    "def generate_train_data(image_width: int, image_height: int):\n",
    "    generate_data(image_width=image_width, image_height=image_height, image_quantity=1000, folder='train')\n",
    "        \n",
    "generate_train_data(image_width=image_width, image_height=image_height)\n",
    "\n",
    "def generate_valid_data(image_width: int, image_height: int):\n",
    "    generate_data(image_width=image_width, image_height=image_height, image_quantity=100, folder='valid')\n",
    "        \n",
    "generate_valid_data(image_width=image_width, image_height=image_height)"
   ]
  },
  {
   "cell_type": "code",
   "execution_count": 16,
   "metadata": {
    "id": "QZNY-zWoWAWt"
   },
   "outputs": [],
   "source": [
    "def generate_test_data(image_width: int, image_height: int):\n",
    "    generate_data(image_width=image_width, image_height=image_height, image_quantity=100, folder='test')\n",
    "        \n",
    "generate_test_data(image_width=image_width, image_height=image_height)"
   ]
  },
  {
   "cell_type": "code",
   "execution_count": 17,
   "metadata": {
    "id": "5sXTlAu3WAWu"
   },
   "outputs": [],
   "source": [
    "def load_images(folder: str):\n",
    "    result = []\n",
    "    for filename in sorted(os.listdir(folder)):\n",
    "      if filename.endswith('.png'):\n",
    "        image = cv2.imread(os.path.join(folder, filename))\n",
    "        image = cv2.cvtColor(image, cv2.COLOR_BGR2RGB)\n",
    "        result.append(image)\n",
    "    return np.array(result)\n",
    "\n",
    "def load_y_lanes(folder: str):\n",
    "    result = []\n",
    "    for filename in sorted(os.listdir(folder)):\n",
    "      if filename.endswith('.csv'):\n",
    "        with open(os.path.join(folder, filename)) as csv_file:\n",
    "          csv_reader = csv.reader(csv_file)\n",
    "          for row in csv_reader:\n",
    "            row_of_floats = [float(value) for value in row]\n",
    "            result.append(row_of_floats)\n",
    "    return np.array(result)\n",
    "    \n",
    "X_train = load_images(folder='./data/train/X') / 255.0\n",
    "y_train = load_images(folder='./data/train/y') / 255.0\n",
    "y_train_lanes = load_y_lanes(folder='./data/train/y')\n",
    "\n",
    "X_valid = load_images(folder='./data/valid/X') / 255.0\n",
    "y_valid = load_images(folder='./data/valid/y') / 255.0\n",
    "y_valid_lanes = load_y_lanes(folder='./data/valid/y')\n",
    "\n",
    "X_test = load_images(folder='./data/test/X') / 255.0\n",
    "y_test = load_images(folder='./data/test/y') / 255.0\n",
    "y_test_lanes = load_y_lanes(folder='./data/test/y')"
   ]
  },
  {
   "cell_type": "code",
   "execution_count": 18,
   "metadata": {
    "id": "gijLr2gEWAWu"
   },
   "outputs": [],
   "source": [
    "import tensorflow as tf\n",
    "from tensorflow.keras import models\n",
    "from tensorflow.keras.models import Model\n",
    "from tensorflow.keras import layers\n",
    "from tensorflow.keras import losses\n",
    "\n",
    "class Fill(Model):\n",
    "    def __init__(self, image_width: int, image_height: int):\n",
    "        super(Fill, self).__init__()\n",
    "        number_of_channels = 3\n",
    "        self.encoder = tf.keras.Sequential([\n",
    "            layers.Input(shape=(image_height, image_width, number_of_channels, )),\n",
    "            layers.Conv2D(8, (3,3), activation=None, padding='same', strides=(1, 1)),\n",
    "            layers.BatchNormalization(),\n",
    "            layers.Activation(activation='relu'),\n",
    "            layers.Conv2D(8, (3,3), activation=None, padding='same', strides=(1, 1)),\n",
    "            layers.BatchNormalization(),\n",
    "            layers.Activation(activation='relu'),\n",
    "            layers.Conv2D(8, (3,3), activation=None, padding='same', strides=(1, 1)),\n",
    "            layers.BatchNormalization(),\n",
    "            layers.Activation(activation='relu'),\n",
    "            layers.MaxPooling2D((2, 2), padding='same'),\n",
    "            layers.Conv2D(16, (3,3), activation=None, padding='same', strides=(1, 1)),\n",
    "            layers.BatchNormalization(),\n",
    "            layers.Activation(activation='relu'),\n",
    "            layers.Conv2D(16, (3,3), activation=None, padding='same', strides=(1, 1)),\n",
    "            layers.BatchNormalization(),\n",
    "            layers.Activation(activation='relu'),\n",
    "            layers.Conv2D(16, (3,3), activation=None, padding='same', strides=(1, 1)),\n",
    "            layers.BatchNormalization(),\n",
    "            layers.Activation(activation='relu'),\n",
    "            layers.MaxPooling2D((2, 2), padding='same'),\n",
    "            layers.Conv2D(32, (3,3), activation=None, padding='same', strides=(1, 1)),\n",
    "            layers.BatchNormalization(),\n",
    "            layers.Activation(activation='relu'),\n",
    "            layers.Conv2D(32, (3,3), activation=None, padding='same', strides=(1, 1)),\n",
    "            layers.BatchNormalization(),\n",
    "            layers.Activation(activation='relu'),\n",
    "            layers.Conv2D(32, (3,3), activation=None, padding='same', strides=(1, 1)),\n",
    "            layers.BatchNormalization(),\n",
    "            layers.Activation(activation='relu'),\n",
    "            layers.MaxPooling2D((2, 2), padding='same'),\n",
    "            layers.Conv2D(64, (3,3), activation=None, padding='same', strides=(1, 1)),\n",
    "            layers.BatchNormalization(),\n",
    "            layers.Activation(activation='relu'),\n",
    "            layers.Conv2D(64, (3,3), activation=None, padding='same', strides=(1, 1)),\n",
    "            layers.BatchNormalization(),\n",
    "            layers.Activation(activation='relu'),\n",
    "            layers.Conv2D(64, (3,3), activation=None, padding='same', strides=(1, 1)),\n",
    "            layers.BatchNormalization(),\n",
    "            layers.Activation(activation='relu'),\n",
    "            layers.MaxPooling2D((2, 2), padding='same'),\n",
    "#             layers.Conv2D(128, (3,3), activation=None, padding='same', strides=(1, 1)),\n",
    "#             layers.BatchNormalization(),\n",
    "#             layers.Activation(activation='relu'),\n",
    "#             layers.Conv2D(128, (3,3), activation=None, padding='same', strides=(1, 1)),\n",
    "#             layers.BatchNormalization(),\n",
    "#             layers.Activation(activation='relu'),\n",
    "#             layers.Conv2D(128, (3,3), activation=None, padding='same', strides=(1, 1)),\n",
    "#             layers.BatchNormalization(),\n",
    "#             layers.Activation(activation='relu'),\n",
    "#             layers.MaxPooling2D((2, 2), padding='same'),\n",
    "        ])\n",
    "\n",
    "        self.decoder = tf.keras.Sequential([\n",
    "#             layers.Conv2D(128, kernel_size=3, strides=(1, 1), activation=None, padding='same'),\n",
    "#             layers.BatchNormalization(),\n",
    "#             layers.Activation(activation='relu'),\n",
    "#             layers.Conv2D(128, kernel_size=3, strides=(1, 1), activation=None, padding='same'),\n",
    "#             layers.BatchNormalization(),\n",
    "#             layers.Activation(activation='relu'),\n",
    "#             layers.Conv2D(128, kernel_size=3, strides=(1, 1), activation=None, padding='same'),\n",
    "#             layers.BatchNormalization(),\n",
    "#             layers.Activation(activation='relu'),\n",
    "#             layers.UpSampling2D((2, 2)),\n",
    "            layers.Conv2D(64, kernel_size=3, strides=(1, 1), activation=None, padding='same'),\n",
    "            layers.BatchNormalization(),\n",
    "            layers.Activation(activation='relu'),\n",
    "            layers.Conv2D(64, kernel_size=3, strides=(1, 1), activation=None, padding='same'),\n",
    "            layers.BatchNormalization(),\n",
    "            layers.Activation(activation='relu'),\n",
    "            layers.Conv2D(64, kernel_size=3, strides=(1, 1), activation=None, padding='same'),\n",
    "            layers.BatchNormalization(),\n",
    "            layers.Activation(activation='relu'),\n",
    "            layers.UpSampling2D((2, 2)),\n",
    "            layers.Conv2D(32, kernel_size=3, strides=(1, 1), activation=None, padding='same'),\n",
    "            layers.BatchNormalization(),\n",
    "            layers.Activation(activation='relu'),\n",
    "            layers.Conv2D(32, kernel_size=3, strides=(1, 1), activation=None, padding='same'),\n",
    "            layers.BatchNormalization(),\n",
    "            layers.Activation(activation='relu'),\n",
    "            layers.Conv2D(32, kernel_size=3, strides=(1, 1), activation=None, padding='same'),\n",
    "            layers.BatchNormalization(),\n",
    "            layers.Activation(activation='relu'),\n",
    "            layers.UpSampling2D((2, 2)),\n",
    "            layers.Conv2D(16, kernel_size=3, strides=(1, 1), activation=None, padding='same'),\n",
    "            layers.BatchNormalization(),\n",
    "            layers.Activation(activation='relu'),\n",
    "            layers.Conv2D(16, kernel_size=3, strides=(1, 1), activation=None, padding='same'),\n",
    "            layers.BatchNormalization(),\n",
    "            layers.Activation(activation='relu'),\n",
    "            layers.Conv2D(16, kernel_size=3, strides=(1, 1), activation=None, padding='same'),\n",
    "            layers.BatchNormalization(),\n",
    "            layers.Activation(activation='relu'),\n",
    "            layers.UpSampling2D((2, 2)),\n",
    "            layers.Conv2D(8, kernel_size=3, strides=(1, 1), activation=None, padding='same'),\n",
    "            layers.BatchNormalization(),\n",
    "            layers.Activation(activation='relu'),\n",
    "            layers.Conv2D(8, kernel_size=3, strides=(1, 1), activation=None, padding='same'),\n",
    "            layers.BatchNormalization(),\n",
    "            layers.Activation(activation='relu'),\n",
    "            layers.Conv2D(8, kernel_size=3, strides=(1, 1), activation=None, padding='same'),\n",
    "            layers.BatchNormalization(),\n",
    "            layers.Activation(activation='relu'),\n",
    "            layers.UpSampling2D((2, 2)),\n",
    "            layers.Conv2D(number_of_channels, kernel_size=(3,3), activation='relu', padding='same'),\n",
    "        ])\n",
    "\n",
    "    def call(self, x):\n",
    "        encoded = self.encoder(x)\n",
    "        decoded = self.decoder(encoded)\n",
    "        return decoded\n",
    "\n",
    "fill_autoencoder = Fill(image_width=image_width, image_height=image_height)"
   ]
  },
  {
   "cell_type": "code",
   "execution_count": 19,
   "metadata": {
    "id": "c1qGgNV8WAWv"
   },
   "outputs": [],
   "source": [
    "from tensorflow.keras import optimizers\n",
    "\n",
    "optimizer = optimizers.Adam(learning_rate=1e-4)\n",
    "fill_autoencoder.compile(optimizer=optimizer, loss='mean_squared_error', metrics=['acc'])"
   ]
  },
  {
   "cell_type": "code",
   "execution_count": 20,
   "metadata": {
    "colab": {
     "base_uri": "https://localhost:8080/",
     "height": 269
    },
    "id": "rCwB0pcSWAWv",
    "outputId": "67e9f126-2d71-4092-e071-320138ea005c"
   },
   "outputs": [
    {
     "data": {
      "image/png": "[encoded data removed]",
      "text/plain": [
       "<Figure size 432x288 with 1 Axes>"
      ]
     },
     "metadata": {
      "needs_background": "light"
     },
     "output_type": "display_data"
    }
   ],
   "source": [
    "X_image = X_train[0]\n",
    "plt.imshow(X_image)\n",
    "plt.show()"
   ]
  },
  {
   "cell_type": "code",
   "execution_count": null,
   "metadata": {
    "colab": {
     "base_uri": "https://localhost:8080/"
    },
    "id": "HcUHp-9JWAWv",
    "outputId": "23fc12b0-14a6-4f67-c987-ed034c3d1129"
   },
   "outputs": [
    {
     "name": "stdout",
     "output_type": "stream",
     "text": [
      "Epoch 1/1000\n",
      "500/500 [==============================] - 7s 14ms/step - loss: 0.0510 - acc: 0.5609 - val_loss: 0.0119 - val_acc: 0.6815\n",
      "Epoch 2/1000\n",
      "500/500 [==============================] - 7s 13ms/step - loss: 0.0051 - acc: 0.6998 - val_loss: 0.0041 - val_acc: 0.7723\n",
      "Epoch 3/1000\n",
      "500/500 [==============================] - 7s 13ms/step - loss: 0.0031 - acc: 0.7995 - val_loss: 0.0028 - val_acc: 0.8584\n",
      "Epoch 4/1000\n",
      "500/500 [==============================] - 6s 13ms/step - loss: 0.0029 - acc: 0.8829 - val_loss: 0.0023 - val_acc: 0.9102\n",
      "Epoch 5/1000\n",
      "500/500 [==============================] - 7s 13ms/step - loss: 0.0020 - acc: 0.9273 - val_loss: 0.0019 - val_acc: 0.9365\n",
      "Epoch 6/1000\n",
      "500/500 [==============================] - 7s 13ms/step - loss: 0.0017 - acc: 0.9442 - val_loss: 0.0017 - val_acc: 0.9502\n",
      "Epoch 7/1000\n",
      "500/500 [==============================] - 7s 13ms/step - loss: 0.0015 - acc: 0.9566 - val_loss: 0.0014 - val_acc: 0.9621\n",
      "Epoch 8/1000\n",
      "500/500 [==============================] - 6s 13ms/step - loss: 0.0013 - acc: 0.9655 - val_loss: 0.0025 - val_acc: 0.9627\n",
      "Epoch 9/1000\n",
      "500/500 [==============================] - 7s 13ms/step - loss: 0.0013 - acc: 0.9747 - val_loss: 0.0012 - val_acc: 0.9805\n",
      "Epoch 10/1000\n",
      "500/500 [==============================] - 6s 13ms/step - loss: 0.0011 - acc: 0.9824 - val_loss: 0.0010 - val_acc: 0.9850\n",
      "Epoch 11/1000\n",
      "500/500 [==============================] - 7s 13ms/step - loss: 0.0010 - acc: 0.9857 - val_loss: 9.9499e-04 - val_acc: 0.9875\n",
      "Epoch 12/1000\n",
      "500/500 [==============================] - 7s 13ms/step - loss: 9.3206e-04 - acc: 0.9878 - val_loss: 9.0366e-04 - val_acc: 0.9880\n",
      "Epoch 13/1000\n",
      "500/500 [==============================] - 7s 13ms/step - loss: 0.0011 - acc: 0.9882 - val_loss: 0.0014 - val_acc: 0.9866\n",
      "Epoch 14/1000\n",
      "500/500 [==============================] - 6s 13ms/step - loss: 0.0012 - acc: 0.9887 - val_loss: 0.0013 - val_acc: 0.9903\n",
      "Epoch 15/1000\n",
      "500/500 [==============================] - 7s 13ms/step - loss: 9.0417e-04 - acc: 0.9903 - val_loss: 7.8887e-04 - val_acc: 0.9906\n",
      "Epoch 16/1000\n",
      "500/500 [==============================] - 7s 13ms/step - loss: 7.8473e-04 - acc: 0.9911 - val_loss: 7.9814e-04 - val_acc: 0.9913\n",
      "Epoch 17/1000\n",
      "500/500 [==============================] - 7s 13ms/step - loss: 7.4638e-04 - acc: 0.9918 - val_loss: 7.3249e-04 - val_acc: 0.9920\n",
      "Epoch 18/1000\n",
      "500/500 [==============================] - 7s 13ms/step - loss: 7.1832e-04 - acc: 0.9925 - val_loss: 6.9412e-04 - val_acc: 0.9928\n",
      "Epoch 19/1000\n",
      "500/500 [==============================] - 7s 13ms/step - loss: 7.0210e-04 - acc: 0.9931 - val_loss: 6.6360e-04 - val_acc: 0.9934\n",
      "Epoch 20/1000\n",
      "500/500 [==============================] - 7s 13ms/step - loss: 6.7787e-04 - acc: 0.9934 - val_loss: 7.3222e-04 - val_acc: 0.9932\n",
      "Epoch 21/1000\n",
      "500/500 [==============================] - 7s 13ms/step - loss: 6.5533e-04 - acc: 0.9938 - val_loss: 6.3552e-04 - val_acc: 0.9938\n",
      "Epoch 22/1000\n",
      "500/500 [==============================] - 7s 13ms/step - loss: 6.3275e-04 - acc: 0.9941 - val_loss: 6.8350e-04 - val_acc: 0.9940\n",
      "Epoch 23/1000\n",
      "500/500 [==============================] - 7s 13ms/step - loss: 6.4125e-04 - acc: 0.9942 - val_loss: 6.3323e-04 - val_acc: 0.9938\n",
      "Epoch 24/1000\n",
      "500/500 [==============================] - 7s 13ms/step - loss: 6.1039e-04 - acc: 0.9943 - val_loss: 5.7568e-04 - val_acc: 0.9946\n",
      "Epoch 25/1000\n",
      "500/500 [==============================] - 7s 13ms/step - loss: 5.9580e-04 - acc: 0.9946 - val_loss: 6.0913e-04 - val_acc: 0.9943\n",
      "Epoch 26/1000\n",
      "500/500 [==============================] - 7s 13ms/step - loss: 8.5903e-04 - acc: 0.9937 - val_loss: 5.8325e-04 - val_acc: 0.9941\n",
      "Epoch 27/1000\n",
      "500/500 [==============================] - 7s 13ms/step - loss: 5.6651e-04 - acc: 0.9947 - val_loss: 5.5058e-04 - val_acc: 0.9946\n",
      "Epoch 28/1000\n",
      "500/500 [==============================] - 7s 13ms/step - loss: 5.5007e-04 - acc: 0.9949 - val_loss: 5.4537e-04 - val_acc: 0.9946\n",
      "Epoch 29/1000\n",
      "500/500 [==============================] - 6s 13ms/step - loss: 5.5099e-04 - acc: 0.9950 - val_loss: 5.6409e-04 - val_acc: 0.9943\n",
      "Epoch 30/1000\n",
      "499/500 [============================>.] - ETA: 0s - loss: 5.3341e-04 - acc: 0.9951\n",
      "Epoch 00030: ReduceLROnPlateau reducing learning rate to 7.499999810534064e-05.\n",
      "500/500 [==============================] - 7s 13ms/step - loss: 5.3347e-04 - acc: 0.9950 - val_loss: 5.4459e-04 - val_acc: 0.9949\n",
      "Epoch 31/1000\n",
      "500/500 [==============================] - 7s 13ms/step - loss: 5.0647e-04 - acc: 0.9951 - val_loss: 5.2738e-04 - val_acc: 0.9945\n",
      "Epoch 32/1000\n",
      "500/500 [==============================] - 6s 13ms/step - loss: 4.9604e-04 - acc: 0.9951 - val_loss: 5.2517e-04 - val_acc: 0.9948\n",
      "Epoch 33/1000\n",
      "388/500 [======================>.......] - ETA: 1s - loss: 5.0308e-04 - acc: 0.9951"
     ]
    }
   ],
   "source": [
    "from tensorflow.keras.callbacks import ReduceLROnPlateau, EarlyStopping\n",
    "\n",
    "reduce_learning_rate_callback = ReduceLROnPlateau(\n",
    "    monitor='val_loss',\n",
    "    factor=0.75,\n",
    "    patience=3,\n",
    "    min_delta=1e-5, \n",
    "    mode='min',\n",
    "    verbose=1\n",
    ")\n",
    "\n",
    "early_stopping_callback = EarlyStopping(\n",
    "    monitor='val_loss',\n",
    "    patience=10,\n",
    "    min_delta=1e-5, \n",
    "    mode='min',\n",
    "    verbose=1\n",
    ")\n",
    "\n",
    "fill_autoencoder.fit(X_train, y_train,\n",
    "                epochs=1000,\n",
    "                shuffle=True,\n",
    "                batch_size=2,\n",
    "                validation_data=(X_valid, y_valid),\n",
    "                verbose=1, \n",
    "                callbacks=[\n",
    "                    reduce_learning_rate_callback,\n",
    "                    early_stopping_callback,\n",
    "                ]\n",
    ")"
   ]
  },
  {
   "cell_type": "code",
   "execution_count": null,
   "metadata": {
    "colab": {
     "base_uri": "https://localhost:8080/"
    },
    "id": "jCcT89D4WAWw",
    "outputId": "7de6e4fa-b760-45fa-c3fb-617944d42684"
   },
   "outputs": [],
   "source": [
    "fill_autoencoder.summary()"
   ]
  },
  {
   "cell_type": "code",
   "execution_count": null,
   "metadata": {
    "id": "TDhpM6lqWAWw"
   },
   "outputs": [],
   "source": [
    "y_pred = fill_autoencoder.predict(X_test)"
   ]
  },
  {
   "cell_type": "code",
   "execution_count": null,
   "metadata": {
    "colab": {
     "base_uri": "https://localhost:8080/",
     "height": 790
    },
    "id": "7y75APmfWAWx",
    "outputId": "e89b9a0b-8b9d-4916-ccc0-02030bce1c66",
    "scrolled": true
   },
   "outputs": [],
   "source": [
    "i = 3\n",
    "\n",
    "plt.imshow(X_test[i])\n",
    "plt.show()\n",
    "\n",
    "plt.imshow(y_test[i])\n",
    "plt.show()\n",
    "\n",
    "prediction = y_pred[i]\n",
    "plt.imshow(prediction, vmin=0.0, vmax=1.0)\n",
    "plt.show()"
   ]
  },
  {
   "cell_type": "code",
   "execution_count": null,
   "metadata": {
    "colab": {
     "base_uri": "https://localhost:8080/"
    },
    "id": "pIqkCDXoWAWx",
    "outputId": "15aa6524-b298-43ee-f366-ad4884d927da"
   },
   "outputs": [],
   "source": [
    "np.amin(y_test[i])"
   ]
  },
  {
   "cell_type": "code",
   "execution_count": null,
   "metadata": {
    "colab": {
     "base_uri": "https://localhost:8080/"
    },
    "id": "Cdccgg5BWAWx",
    "outputId": "37d50b80-17a6-4e02-ab58-4eb8b85cadf2"
   },
   "outputs": [],
   "source": [
    "np.amin(prediction)"
   ]
  },
  {
   "cell_type": "code",
   "execution_count": null,
   "metadata": {
    "colab": {
     "base_uri": "https://localhost:8080/"
    },
    "id": "-hyzJua5WAWx",
    "outputId": "b9726d05-c546-4681-b4a2-b4442f87bd66"
   },
   "outputs": [],
   "source": [
    "np.amax(y_test[i])"
   ]
  },
  {
   "cell_type": "code",
   "execution_count": null,
   "metadata": {
    "colab": {
     "base_uri": "https://localhost:8080/"
    },
    "id": "m4tUTAdbWAWy",
    "outputId": "cdf31226-49fe-4d20-99e5-ccac97d8bb7c"
   },
   "outputs": [],
   "source": [
    "np.amax(prediction)"
   ]
  },
  {
   "cell_type": "code",
   "execution_count": null,
   "metadata": {
    "colab": {
     "base_uri": "https://localhost:8080/"
    },
    "id": "RyfD8p8mWAWy",
    "outputId": "740424eb-055c-4fb2-9062-96ca14f82ea6"
   },
   "outputs": [],
   "source": [
    "class PolynomialCoefficientsModel(Model):\n",
    "  def __init__(self, image_width: int, image_height: int, number_of_output_parameters: int):\n",
    "    super(PolynomialCoefficientsModel, self).__init__()\n",
    "    number_of_channels = 3\n",
    "\n",
    "    self.encoder = tf.keras.Sequential([\n",
    "      layers.Input(shape=(image_height, image_width, number_of_channels, )),\n",
    "      layers.Conv2D(16, (3,3), activation=None, padding='same', strides=(1, 1)),\n",
    "      layers.BatchNormalization(),\n",
    "      layers.Activation(activation='relu'),\n",
    "      layers.Conv2D(16, (3,3), activation=None, padding='same', strides=(1, 1)),\n",
    "      layers.BatchNormalization(),\n",
    "      layers.Activation(activation='relu'),\n",
    "      layers.Conv2D(16, (3,3), activation=None, padding='same', strides=(1, 1)),\n",
    "      layers.BatchNormalization(),\n",
    "      layers.Activation(activation='relu'),\n",
    "      layers.MaxPooling2D((2, 2), padding='same'),\n",
    "      layers.Conv2D(32, (3,3), activation=None, padding='same', strides=(1, 1)),\n",
    "      layers.BatchNormalization(),\n",
    "      layers.Activation(activation='relu'),\n",
    "      layers.Conv2D(32, (3,3), activation=None, padding='same', strides=(1, 1)),\n",
    "      layers.BatchNormalization(),\n",
    "      layers.Activation(activation='relu'),\n",
    "      layers.Conv2D(32, (3,3), activation=None, padding='same', strides=(1, 1)),\n",
    "      layers.BatchNormalization(),\n",
    "      layers.Activation(activation='relu'),\n",
    "      layers.MaxPooling2D((2, 2), padding='same'),\n",
    "      layers.Conv2D(64, (3,3), activation=None, padding='same', strides=(1, 1)),\n",
    "      layers.BatchNormalization(),\n",
    "      layers.Activation(activation='relu'),\n",
    "      layers.Conv2D(64, (3,3), activation=None, padding='same', strides=(1, 1)),\n",
    "      layers.BatchNormalization(),\n",
    "      layers.Activation(activation='relu'),\n",
    "      layers.Conv2D(64, (3,3), activation=None, padding='same', strides=(1, 1)),\n",
    "      layers.BatchNormalization(),\n",
    "      layers.Activation(activation='relu'),\n",
    "      layers.MaxPooling2D((2, 2), padding='same'),\n",
    "      # layers.Conv2D(128, (3,3), activation=None, padding='same', strides=(1, 1)),\n",
    "      # layers.BatchNormalization(),\n",
    "      # layers.Activation(activation='relu'),\n",
    "      # layers.Conv2D(128, (3,3), activation=None, padding='same', strides=(1, 1)),\n",
    "      # layers.BatchNormalization(),\n",
    "      # layers.Activation(activation='relu'),\n",
    "      # layers.Conv2D(128, (3,3), activation=None, padding='same', strides=(1, 1)),\n",
    "      # layers.BatchNormalization(),\n",
    "      # layers.Activation(activation='relu'),\n",
    "      # layers.MaxPooling2D((2, 2), padding='same'),\n",
    "      # layers.Conv2D(256, (3,3), activation=None, padding='same', strides=(1, 1)),\n",
    "      # layers.BatchNormalization(),\n",
    "      # layers.Activation(activation='relu'),\n",
    "      # layers.Conv2D(256, (3,3), activation=None, padding='same', strides=(1, 1)),\n",
    "      # layers.BatchNormalization(),\n",
    "      # layers.Activation(activation='relu'),\n",
    "      # layers.Conv2D(256, (3,3), activation=None, padding='same', strides=(1, 1)),\n",
    "      # layers.BatchNormalization(),\n",
    "      # layers.Activation(activation='relu'),\n",
    "      # layers.MaxPooling2D((2, 2), padding='same'),\n",
    "      layers.GlobalAveragePooling2D(),\n",
    "    ])\n",
    "\n",
    "    self.decoder = tf.keras.Sequential([\n",
    "      layers.Dropout(0.2),\n",
    "      layers.Dense(128),\n",
    "      layers.Activation(activation='relu'), \n",
    "      layers.Dropout(0.2),\n",
    "      layers.Dense(number_of_output_parameters),\n",
    "      layers.Activation(activation='relu'), \n",
    "    ])                          \n",
    "    \n",
    "  def call(self, x):\n",
    "    encoded = self.encoder(x)\n",
    "    decoder = self.decoder(encoded)\n",
    "    return decoder\n",
    "\n",
    "number_of_parameters_describing_lane = y_train_lanes.shape[1]\n",
    "print(number_of_parameters_describing_lane)\n",
    "polynomial_coefficients_model = PolynomialCoefficientsModel(image_width=image_width, image_height=image_height, number_of_output_parameters=number_of_parameters_describing_lane)\n"
   ]
  },
  {
   "cell_type": "code",
   "execution_count": null,
   "metadata": {
    "id": "mTYAgXCpJJ_h"
   },
   "outputs": [],
   "source": [
    "from tensorflow.keras import optimizers\n",
    "\n",
    "optimizer = optimizers.Adam(learning_rate=1e-4)\n",
    "polynomial_coefficients_model.compile(optimizer=optimizer, loss='mean_squared_error', metrics=['acc'])"
   ]
  },
  {
   "cell_type": "code",
   "execution_count": null,
   "metadata": {
    "colab": {
     "base_uri": "https://localhost:8080/"
    },
    "id": "fSpxhnwkJcGQ",
    "outputId": "ee631d28-fdb9-4da7-ad66-f7a2d028bd5d"
   },
   "outputs": [],
   "source": [
    "from tensorflow.keras.callbacks import ReduceLROnPlateau, EarlyStopping\n",
    "\n",
    "reduce_learning_rate_callback = ReduceLROnPlateau(\n",
    "    monitor='val_loss',\n",
    "    factor=0.75,\n",
    "    patience=3,\n",
    "    min_delta=1e-5, \n",
    "    mode='min',\n",
    "    verbose=1\n",
    ")\n",
    "\n",
    "early_stopping_callback = EarlyStopping(\n",
    "    monitor='val_loss',\n",
    "    patience=10,\n",
    "    min_delta=1e-5, \n",
    "    mode='min',\n",
    "    verbose=1\n",
    ")\n",
    "\n",
    "polynomial_coefficients_model.fit(X_train, y_train_lanes,\n",
    "                epochs=1000,\n",
    "                shuffle=True,\n",
    "                batch_size=2,\n",
    "                validation_data=(X_valid, y_valid_lanes),\n",
    "                verbose=1, \n",
    "                callbacks=[\n",
    "                    reduce_learning_rate_callback,\n",
    "                    early_stopping_callback,\n",
    "                ]\n",
    ")"
   ]
  },
  {
   "cell_type": "code",
   "execution_count": null,
   "metadata": {
    "id": "MLXfIZk_ZO2g"
   },
   "outputs": [],
   "source": [
    "y_pred_lanes = polynomial_coefficients_model.predict(X_test)"
   ]
  },
  {
   "cell_type": "code",
   "execution_count": null,
   "metadata": {
    "id": "A0eS1atAZdIW"
   },
   "outputs": [],
   "source": [
    "i = 2\n",
    "\n",
    "print(y_test_lanes[i])\n",
    "\n",
    "prediction = y_pred_lanes[i]\n",
    "print(prediction)"
   ]
  },
  {
   "cell_type": "code",
   "execution_count": null,
   "metadata": {
    "id": "tbnGMlxL9Hj5"
   },
   "outputs": [],
   "source": [
    "def pairwise(iterable):\n",
    "    a = iter(iterable)\n",
    "    return zip(a, a)\n",
    "\n",
    "\n",
    "def make_points_from_points_array(points_array: [float]) -> [Point]:\n",
    "  result = []\n",
    "  for x, y in pairwise(points_array):\n",
    "    point = Point(x=x, y=y)\n",
    "    result.append(point)\n",
    "\n",
    "  return result\n",
    "\n",
    "def make_line_from_prediction(points_array: [float]) -> [SimulatedLine]:\n",
    "  line_points = make_points_from_points_array(points_array=points_array)\n",
    "\n",
    "  return SimulatedLine(points=line_points, color=SimulatedLineColor.WHITE, stroke=SimulatedLineStroke.SOLID, quantity=SimulatedLineQuantity.SINGLE, width=0.01)\n",
    "  \n",
    "def construct_lane_from_prediction(prediction: [float]) -> SimulatedLane:\n",
    "  left_line_points_array = prediction[0:8]\n",
    "  left_line = make_line_from_prediction(points_array=left_line_points_array)\n",
    "\n",
    "  right_line_points_array = prediction[11:19]\n",
    "  right_line = make_line_from_prediction(points_array=right_line_points_array)\n",
    "\n",
    "  return SimulatedLane(left_line=left_line, right_line=right_line)\n",
    "\n",
    "plt.imshow(X_test[i])\n",
    "plt.show()\n",
    "\n",
    "plt.imshow(y_test[i])\n",
    "plt.show()\n",
    "\n",
    "y_test_lane = construct_lane_from_prediction(prediction=y_test_lanes[i])\n",
    "image = make_blank_image(width=image_width, height=image_height)\n",
    "y_test_lane.present_filled(image=image)\n",
    "lane_points = y_test_lane.left_line.points + y_test_lane.right_line.points\n",
    "for point in lane_points:\n",
    "  point.present(image=image)\n",
    "plt.imshow(image)\n",
    "plt.show()\n",
    "\n",
    "y_pred_lane = construct_lane_from_prediction(prediction=prediction)\n",
    "image = make_blank_image(width=image_width, height=image_height)\n",
    "y_pred_lane.present_filled(image=image)\n",
    "lane_points = y_pred_lane.left_line.points + y_pred_lane.right_line.points\n",
    "for point in lane_points:\n",
    "  point.present(image=image)\n",
    "plt.imshow(image)\n",
    "plt.show()"
   ]
  }
 ],
 "metadata": {
  "accelerator": "GPU",
  "colab": {
   "name": "Untitled.ipynb",
   "provenance": []
  },
  "kernelspec": {
   "display_name": "Python 3",
   "language": "python",
   "name": "python3"
  },
  "language_info": {
   "codemirror_mode": {
    "name": "ipython",
    "version": 3
   },
   "file_extension": ".py",
   "mimetype": "text/x-python",
   "name": "python",
   "nbconvert_exporter": "python",
   "pygments_lexer": "ipython3",
   "version": "3.8.5"
  }
 },
 "nbformat": 4,
 "nbformat_minor": 1
}
